{
 "cells": [
  {
   "cell_type": "code",
   "execution_count": 43,
   "metadata": {},
   "outputs": [],
   "source": [
    "def set_screen(height=16, width=22):\n",
    "    # sets the screen's height and width\n",
    "    screen = np.zeros((height,width), dtype=np.int16)\n",
    "\n",
    "    # sets the walls\n",
    "    screen[0] = 255\n",
    "    screen[height - 1] = 255\n",
    "    screen[:,0] = 255\n",
    "    screen[:,width - 1] = 255\n",
    "    return screen\n",
    "\n",
    "\n",
    "screen = set_screen(height=16, width=22)\n"
   ]
  },
  {
   "cell_type": "code",
   "execution_count": null,
   "metadata": {},
   "outputs": [],
   "source": [
    "from environment import set_screen"
   ]
  },
  {
   "cell_type": "code",
   "execution_count": 49,
   "metadata": {},
   "outputs": [
    {
     "data": {
      "text/plain": [
       "{(0, 0),\n",
       " (0, 1),\n",
       " (0, 2),\n",
       " (0, 3),\n",
       " (0, 4),\n",
       " (0, 5),\n",
       " (0, 6),\n",
       " (0, 7),\n",
       " (0, 8),\n",
       " (0, 9),\n",
       " (0, 10),\n",
       " (0, 11),\n",
       " (0, 12),\n",
       " (0, 13),\n",
       " (0, 14),\n",
       " (0, 15),\n",
       " (0, 16),\n",
       " (0, 17),\n",
       " (0, 18),\n",
       " (0, 19),\n",
       " (0, 20),\n",
       " (0, 21),\n",
       " (1, 0),\n",
       " (1, 21),\n",
       " (2, 0),\n",
       " (2, 21),\n",
       " (3, 0),\n",
       " (3, 21),\n",
       " (4, 0),\n",
       " (4, 21),\n",
       " (5, 0),\n",
       " (5, 21),\n",
       " (6, 0),\n",
       " (6, 21),\n",
       " (7, 0),\n",
       " (7, 21),\n",
       " (8, 0),\n",
       " (8, 21),\n",
       " (9, 0),\n",
       " (9, 21),\n",
       " (10, 0),\n",
       " (10, 21),\n",
       " (11, 0),\n",
       " (11, 21),\n",
       " (12, 0),\n",
       " (12, 21),\n",
       " (13, 0),\n",
       " (13, 21),\n",
       " (14, 0),\n",
       " (14, 21),\n",
       " (15, 0),\n",
       " (15, 1),\n",
       " (15, 2),\n",
       " (15, 3),\n",
       " (15, 4),\n",
       " (15, 5),\n",
       " (15, 6),\n",
       " (15, 7),\n",
       " (15, 8),\n",
       " (15, 9),\n",
       " (15, 10),\n",
       " (15, 11),\n",
       " (15, 12),\n",
       " (15, 13),\n",
       " (15, 14),\n",
       " (15, 15),\n",
       " (15, 16),\n",
       " (15, 17),\n",
       " (15, 18),\n",
       " (15, 19),\n",
       " (15, 20),\n",
       " (15, 21)}"
      ]
     },
     "execution_count": 49,
     "metadata": {},
     "output_type": "execute_result"
    }
   ],
   "source": [
    "walls = np.where(screen == 255)\n",
    "walls = {(x,y) for x,y in zip(walls[0],walls[1])}"
   ]
  },
  {
   "cell_type": "code",
   "execution_count": 33,
   "metadata": {},
   "outputs": [],
   "source": [
    "trail = [(7,7), (7,8), (7,9)]\n"
   ]
  },
  {
   "cell_type": "code",
   "execution_count": 40,
   "metadata": {},
   "outputs": [
    {
     "data": {
      "text/plain": [
       "[(7, 7)]"
      ]
     },
     "execution_count": 40,
     "metadata": {},
     "output_type": "execute_result"
    }
   ],
   "source": [
    "trail[-1:-2-1:-1]"
   ]
  },
  {
   "cell_type": "code",
   "execution_count": 41,
   "metadata": {},
   "outputs": [
    {
     "data": {
      "text/plain": [
       "<Figure size 432x288 with 0 Axes>"
      ]
     },
     "metadata": {},
     "output_type": "display_data"
    }
   ],
   "source": [
    "import random\n",
    "from itertools import count\n",
    "import pandas as pd\n",
    "import matplotlib.pyplot as plt\n",
    "from matplotlib.animation import FuncAnimation\n",
    "\n",
    "plt.style.use('fivethirtyeight')\n",
    "\n",
    "x_vals = []\n",
    "y_vals = []\n",
    "\n",
    "index = count()\n",
    "\n",
    "\n",
    "def animate(i):\n",
    "    data = pd.read_csv('data.csv')\n",
    "    x = data['x_value']\n",
    "    y1 = data['total_1']\n",
    "    y2 = data['total_2']\n",
    "\n",
    "    plt.cla()\n",
    "\n",
    "    plt.plot(x, y1, label='Channel 1')\n",
    "    plt.plot(x, y2, label='Channel 2')\n",
    "\n",
    "    plt.legend(loc='upper left')\n",
    "    plt.tight_layout()\n",
    "\n",
    "\n",
    "ani = FuncAnimation(plt.gcf(), animate, interval=1000)\n",
    "\n",
    "plt.tight_layout()\n",
    "plt.show()"
   ]
  },
  {
   "cell_type": "code",
   "execution_count": 12,
   "metadata": {},
   "outputs": [
    {
     "data": {
      "image/png": "[encoded data removed]",
      "text/plain": [
       "<Figure size 432x288 with 1 Axes>"
      ]
     },
     "metadata": {},
     "output_type": "display_data"
    }
   ],
   "source": [
    "import matplotlib.pyplot as plt\n",
    "import time\n",
    "import numpy as np\n",
    "\n",
    "fig, ax = plt.subplots()\n",
    "x = np.array(range(100), np.int32)\n",
    "y = x ** 2\n",
    "\n",
    "line, = ax.plot(x[:1], y[:1])\n",
    "\n",
    "for i in range(1, 100):\n",
    "    line.set_data(x[:i], y[:i])\n",
    "    fig.canvas.draw()\n",
    "    time.sleep(0.1)\n",
    "\n",
    "plt.show()\n"
   ]
  },
  {
   "cell_type": "code",
   "execution_count": 9,
   "metadata": {},
   "outputs": [
    {
     "data": {
      "image/png": "[encoded data removed]",
      "text/plain": [
       "<Figure size 432x288 with 1 Axes>"
      ]
     },
     "metadata": {},
     "output_type": "display_data"
    }
   ],
   "source": [
    "import numpy as np\n",
    "import matplotlib\n",
    "import matplotlib.pyplot as plt\n",
    "from matplotlib.animation import PillowWriter\n",
    "\n",
    "fig = plt.figure()\n",
    "l, = plt.plot([], [], 'k-')\n",
    "\n",
    "plt.xlim(-5,5)\n",
    "plt.ylim(-5,5)\n",
    "\n",
    "def func(x):\n",
    "    return np.sin(x)*3\n",
    "\n",
    "metadata = dict(title='Movie', artist='codingLikemad')\n",
    "writer = PillowWriter(fps=15, metadata='Coding ')\n",
    "\n",
    "xlist = []\n",
    "ylist = []\n",
    "\n",
    "with writer.saving(fig, 'sinWave.gif', 100):\n",
    "    for xval in np.linspace(-5,5,100):\n",
    "        xlist.append(xval)\n",
    "        ylist.append(func(xval))\n",
    "\n",
    "        l.set_data(xlist, ylist)\n",
    "\n",
    "        writer.grab_frame()"
   ]
  },
  {
   "cell_type": "code",
   "execution_count": 7,
   "metadata": {},
   "outputs": [
    {
     "data": {
      "text/plain": [
       "<Figure size 432x288 with 0 Axes>"
      ]
     },
     "metadata": {},
     "output_type": "display_data"
    }
   ],
   "source": [
    "x_vals = []\n",
    "y_vals = []\n",
    "index = count()\n",
    "def animate(i):\n",
    "    x_vals.append(next(index))\n",
    "    x_vals.append(random.randint(0,5))\n",
    "    plt.cla()\n",
    "    plt.plot(x_vals, y_vals)\n",
    "\n",
    "ani = FuncAnimation(plt.gcf(), animate, interval=1000)\n",
    "\n",
    "plt.tight_layout()\n",
    "plt.show()\n"
   ]
  },
  {
   "cell_type": "code",
   "execution_count": 2,
   "metadata": {},
   "outputs": [
    {
     "data": {
      "text/plain": [
       "<matplotlib.image.AxesImage at 0x1c27e5c7198>"
      ]
     },
     "execution_count": 2,
     "metadata": {},
     "output_type": "execute_result"
    },
    {
     "data": {
      "image/png": "[encoded data removed]",
      "text/plain": [
       "<Figure size 720x1080 with 1 Axes>"
      ]
     },
     "metadata": {
      "needs_background": "light"
     },
     "output_type": "display_data"
    }
   ],
   "source": [
    "height = 16\n",
    "width = 22\n",
    "\n",
    "screen = np.zeros((height,width), dtype=np.int16)\n",
    "\n",
    "screen[0] = 255\n",
    "screen[height - 1] = 255\n",
    "screen[:,0] = 255\n",
    "screen[:,width - 1] = 255\n",
    "\n",
    "plt.figure(figsize=(10,15))\n",
    "plt.imshow(X=screen)"
   ]
  },
  {
   "cell_type": "code",
   "execution_count": 3,
   "metadata": {},
   "outputs": [
    {
     "data": {
      "text/plain": [
       "<matplotlib.image.AxesImage at 0x1c27e64e5c0>"
      ]
     },
     "execution_count": 3,
     "metadata": {},
     "output_type": "execute_result"
    },
    {
     "data": {
      "image/png": "[encoded data removed]",
      "text/plain": [
       "<Figure size 720x1080 with 1 Axes>"
      ]
     },
     "metadata": {
      "needs_background": "light"
     },
     "output_type": "display_data"
    }
   ],
   "source": [
    "height = 16\n",
    "width = 22\n",
    "\n",
    "screen = np.zeros((height,width), dtype=np.int16)\n",
    "\n",
    "screen[0] = 255\n",
    "screen[height - 1] = 255\n",
    "screen[:,0] = 255\n",
    "screen[:,width - 1] = 255\n",
    "\n",
    "\n",
    "snake = np.array([round(height/2),round(width/2),130], np.int32)\n",
    "\n",
    "screen[snake[0], snake[1]] = snake[2]\n",
    "\n",
    "\n",
    "plt.figure(figsize=(10,15))\n",
    "plt.imshow(X=screen)"
   ]
  },
  {
   "cell_type": "code",
   "execution_count": 4,
   "metadata": {},
   "outputs": [
    {
     "ename": "SyntaxError",
     "evalue": "'break' outside loop (<ipython-input-4-3de49e638601>, line 21)",
     "output_type": "error",
     "traceback": [
      "\u001b[1;36m  File \u001b[1;32m\"<ipython-input-4-3de49e638601>\"\u001b[1;36m, line \u001b[1;32m21\u001b[0m\n\u001b[1;33m    Direction = 'up'\u001b[0m\n\u001b[1;37m                   ^\u001b[0m\n\u001b[1;31mSyntaxError\u001b[0m\u001b[1;31m:\u001b[0m 'break' outside loop\n"
     ]
    }
   ],
   "source": [
    "height = 16\n",
    "width = 22\n",
    "\n",
    "screen = np.zeros((height,width), dtype=np.int16)\n",
    "\n",
    "screen[0] = 255\n",
    "screen[height - 1] = 255\n",
    "screen[:,0] = 255\n",
    "screen[:,width - 1] = 255\n",
    "\n",
    "\n",
    "snake = np.array([round(height/2),round(width/2),130], np.int32)\n",
    "\n",
    "screen[snake[0], snake[1]] = snake[2]\n",
    "\n",
    "if keyboard.is_pressed(\"a\"):\n",
    "        print(\"You pressed 'a'.\")\n",
    "        break\n",
    "game = True\n",
    "\n",
    "Direction = 'up'\n",
    "\n",
    "while game:\n",
    "    if keyboard.is_pressed(\"a\"):\n",
    "        print(\"You pressed 'a'.\")\n",
    "        break\n",
    "    if tuple(snake[0:2])  in list(zip(np.where(screen == 255)[0], np.where(screen == 255)[1])):\n",
    "      game = False\n",
    "\n",
    "\n",
    "\n",
    "\n",
    "plt.figure(figsize=(10,15))\n",
    "plt.imshow(X=screen)"
   ]
  },
  {
   "cell_type": "code",
   "execution_count": 2,
   "metadata": {},
   "outputs": [
    {
     "name": "stdout",
     "output_type": "stream",
     "text": [
      "You pressed 'up'.\n"
     ]
    }
   ],
   "source": [
    "game = True\n",
    "\n",
    "Direction = 'up'\n",
    "\n",
    "while game:\n",
    "    if keyboard.is_pressed(\"up\"):\n",
    "        print(\"You pressed 'up'.\")\n",
    "        break"
   ]
  },
  {
   "cell_type": "code",
   "execution_count": null,
   "metadata": {},
   "outputs": [],
   "source": []
  },
  {
   "cell_type": "code",
   "execution_count": 15,
   "metadata": {},
   "outputs": [],
   "source": [
    "game = True\n",
    "\n",
    "Direction = 'up'\n",
    "\n",
    "while game:\n",
    "    if keyboard.is_pressed(\"a\"):\n",
    "        print(\"You pressed 'a'.\")\n",
    "        break"
   ]
  },
  {
   "cell_type": "code",
   "execution_count": 4,
   "metadata": {},
   "outputs": [
    {
     "name": "stdout",
     "output_type": "stream",
     "text": [
      "Key KeyboardEvent(up down) pressed\n",
      "Key KeyboardEvent(down down) pressed\n",
      "Key KeyboardEvent(up down) pressed\n",
      "Key KeyboardEvent(up down) pressed\n",
      "Key KeyboardEvent(right down) pressed\n",
      "Key KeyboardEvent(left down) pressed\n",
      "Key KeyboardEvent(down down) pressed\n",
      "Key KeyboardEvent(right down) pressed\n",
      "Key KeyboardEvent(a down) pressed\n",
      "Key KeyboardEvent(esc down) pressed\n",
      "Key KeyboardEvent(esc down) pressed\n",
      "Key KeyboardEvent(up down) pressed\n",
      "Key KeyboardEvent(f down) pressed\n",
      "Key KeyboardEvent(g down) pressed\n",
      "Key KeyboardEvent(h down) pressed\n",
      "Key KeyboardEvent(e down) pressed\n",
      "Key KeyboardEvent(a down) pressed\n",
      "Key KeyboardEvent(alt down) pressed\n",
      "Key KeyboardEvent(tab down) pressed\n",
      "Key KeyboardEvent(alt down) pressed\n",
      "Key KeyboardEvent(tab down) pressed\n"
     ]
    }
   ],
   "source": [
    "def on_press(key):\n",
    "    print(f\"Key {key} pressed\")\n",
    "\n",
    "keyboard.on_press(on_press)\n",
    "\n",
    "while True:\n",
    "    pass"
   ]
  },
  {
   "cell_type": "code",
   "execution_count": 3,
   "metadata": {},
   "outputs": [],
   "source": [
    "def on_press(key):\n",
    "    print(f\"Key {key} pressed\")\n",
    "\n",
    "keyboard.on_press(on_press)\n",
    "\n",
    "while True:\n",
    "    keyboard.press_and_release('esc')"
   ]
  },
  {
   "cell_type": "code",
   "execution_count": 3,
   "metadata": {},
   "outputs": [
    {
     "data": {
      "image/png": "[encoded data removed]",
      "text/plain": [
       "<Figure size 432x288 with 1 Axes>"
      ]
     },
     "metadata": {
      "needs_background": "light"
     },
     "output_type": "display_data"
    }
   ],
   "source": [
    "fig, ax = plt.subplots()\n",
    "im = ax.imshow(np.zeros((10, 10)), cmap='gray')\n",
    "\n",
    "def update(frame):\n",
    "    im.set_data(frame)\n",
    "    return im,\n",
    "\n",
    "ani = FuncAnimation(fig, update, frames=np.random.rand(20, 10, 10), interval=100, blit=True)\n",
    "plt.show()"
   ]
  },
  {
   "cell_type": "code",
   "execution_count": 3,
   "metadata": {},
   "outputs": [
    {
     "name": "stdout",
     "output_type": "stream",
     "text": [
      "Key KeyboardEvent(up down) pressed\n",
      "Key KeyboardEvent(down down) pressed\n",
      "Key KeyboardEvent(left down) pressed\n",
      "Key KeyboardEvent(down down) pressed\n",
      "Key KeyboardEvent(down down) pressed\n",
      "Key KeyboardEvent(esc down) pressed\n",
      "Key KeyboardEvent(esc down) pressed\n",
      "Key KeyboardEvent(esc down) pressed\n",
      "Key KeyboardEvent(esc down) pressed\n",
      "Key KeyboardEvent(esc down) pressed\n",
      "Key KeyboardEvent(esc down) pressed\n"
     ]
    }
   ],
   "source": [
    "def on_press(key):\n",
    "    print(f\"Key {key} pressed\")\n",
    "\n",
    "keyboard.on_press(on_press)\n",
    "\n",
    "while True:\n",
    "    #keyboard.press_and_release('esc')\n",
    "    keyboard.record('esc')"
   ]
  }
 ],
 "metadata": {
  "kernelspec": {
   "display_name": "aulas",
   "language": "python",
   "name": "python3"
  },
  "language_info": {
   "codemirror_mode": {
    "name": "ipython",
    "version": 3
   },
   "file_extension": ".py",
   "mimetype": "text/x-python",
   "name": "python",
   "nbconvert_exporter": "python",
   "pygments_lexer": "ipython3",
   "version": "3.6.10"
  },
  "orig_nbformat": 4,
  "vscode": {
   "interpreter": {
    "hash": "2f00c94bcd8ae476b672df7a9dfc9387f4494c3abb29b210f50493ddae4dc1bf"
   }
  }
 },
 "nbformat": 4,
 "nbformat_minor": 2
}
